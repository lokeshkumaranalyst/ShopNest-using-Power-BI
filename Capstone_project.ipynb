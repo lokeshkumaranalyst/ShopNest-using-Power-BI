{
 "cells": [
  {
   "cell_type": "code",
   "execution_count": 1,
   "id": "46aa16b1-ff1a-43a5-9f76-639a7470a144",
   "metadata": {},
   "outputs": [],
   "source": [
    "# Importing required libraries\n",
    "import pandas as pd\n",
    "import numpy as np"
   ]
  },
  {
   "cell_type": "code",
   "execution_count": 2,
   "id": "b10afa98-3c88-4f77-ac1c-f56cf3c4be10",
   "metadata": {},
   "outputs": [
    {
     "name": "stdout",
     "output_type": "stream",
     "text": [
      "Project DataFrame:\n",
      "     ID    Project       Cost    Status\n",
      "0  A001  Project 1  1000000.0  Finished\n",
      "1  A002  Project 2        NaN   Ongoing\n",
      "2  A003  Project 3  4500000.0  Finished\n",
      "3  A004  Project 4  3000000.0   Ongoing\n",
      "4  A005  Project 5  1200000.0  Finished\n"
     ]
    }
   ],
   "source": [
    "# Project DataFrame\n",
    "project_data = {\n",
    "    \"ID\": [\"A001\", \"A002\", \"A003\", \"A004\", \"A005\"],\n",
    "    \"Project\": [\"Project 1\", \"Project 2\", \"Project 3\", \"Project 4\", \"Project 5\"],\n",
    "    \"Cost\": [1000000, np.nan, 4500000, 3000000, 1200000],\n",
    "    \"Status\": [\"Finished\", \"Ongoing\", \"Finished\", \"Ongoing\", \"Finished\"]\n",
    "}\n",
    "project_df = pd.DataFrame(project_data)\n",
    "print(\"Project DataFrame:\")\n",
    "print(project_df)"
   ]
  },
  {
   "cell_type": "code",
   "execution_count": 3,
   "id": "c023d270-03e7-4caf-a3c0-48b299c99d39",
   "metadata": {},
   "outputs": [
    {
     "name": "stdout",
     "output_type": "stream",
     "text": [
      "Employee DataFrame:\n",
      "     ID             Name Gender      City  Age\n",
      "0  A001       John Alter      M     Paris   25\n",
      "1  A002  Alice Luxemberg      F    London   27\n",
      "2  A003        Mike Jobs      M    Berlin   29\n",
      "3  A004       Nina Adgra      F  New York   31\n",
      "4  A005        Fred Cory      M    Madrid   30\n"
     ]
    }
   ],
   "source": [
    "# Employee DataFrame\n",
    "employee_data = {\n",
    "    \"ID\": [\"A001\", \"A002\", \"A003\", \"A004\", \"A005\"],\n",
    "    \"Name\": [\"John Alter\", \"Alice Luxemberg\", \"Mike Jobs\", \"Nina Adgra\", \"Fred Cory\"],\n",
    "    \"Gender\": [\"M\", \"F\", \"M\", \"F\", \"M\"],\n",
    "    \"City\": [\"Paris\", \"London\", \"Berlin\", \"New York\", \"Madrid\"],\n",
    "    \"Age\": [25, 27, 29, 31, 30]\n",
    "}\n",
    "employee_df = pd.DataFrame(employee_data)\n",
    "print(\"Employee DataFrame:\")\n",
    "print(employee_df)"
   ]
  },
  {
   "cell_type": "code",
   "execution_count": 4,
   "id": "7c6e8745-718f-4e4d-a705-8e6c3277d4b3",
   "metadata": {},
   "outputs": [
    {
     "name": "stdout",
     "output_type": "stream",
     "text": [
      "Seniority Level DataFrame:\n",
      "     ID  Designation Level\n",
      "0  A001                  2\n",
      "1  A002                  3\n",
      "2  A003                  3\n",
      "3  A004                  4\n",
      "4  A005                  3\n"
     ]
    }
   ],
   "source": [
    "# Seniority Level DataFrame\n",
    "seniority_data = {\n",
    "    \"ID\": [\"A001\", \"A002\", \"A003\", \"A004\", \"A005\"],\n",
    "    \"Designation Level\": [2, 3, 3, 4, 3]\n",
    "}\n",
    "seniority_df = pd.DataFrame(seniority_data)\n",
    "print(\"Seniority Level DataFrame:\")\n",
    "print(seniority_df)"
   ]
  },
  {
   "cell_type": "code",
   "execution_count": 5,
   "id": "509b0c57-d9b4-4d99-93ff-01a17e6bb8d9",
   "metadata": {},
   "outputs": [
    {
     "name": "stdout",
     "output_type": "stream",
     "text": [
      "Files saved: project.csv, employee.csv, seniority.csv\n"
     ]
    }
   ],
   "source": [
    "# Save DataFrames to CSV files\n",
    "project_df.to_csv(\"project.csv\", index=False)\n",
    "employee_df.to_csv(\"employee.csv\", index=False)\n",
    "seniority_df.to_csv(\"seniority.csv\", index=False)\n",
    "print(\"Files saved: project.csv, employee.csv, seniority.csv\")"
   ]
  },
  {
   "cell_type": "code",
   "execution_count": 6,
   "id": "6fe38aa8-3a3c-4869-9ee0-9c2c15820cae",
   "metadata": {},
   "outputs": [
    {
     "name": "stdout",
     "output_type": "stream",
     "text": [
      "Updated Project DataFrame:\n",
      "     ID    Project       Cost    Status\n",
      "0  A001  Project 1  1000000.0  Finished\n",
      "1  A002  Project 2  1000000.0   Ongoing\n",
      "2  A003  Project 3  4500000.0  Finished\n",
      "3  A004  Project 4  3000000.0   Ongoing\n",
      "4  A005  Project 5  1200000.0  Finished\n"
     ]
    }
   ],
   "source": [
    "# Replace missing values in the Cost column using running average\n",
    "for i in range(len(project_df)):\n",
    "    if pd.isna(project_df.loc[i, \"Cost\"]):\n",
    "        project_df.loc[i, \"Cost\"] = project_df[\"Cost\"][:i].mean()\n",
    "print(\"Updated Project DataFrame:\")\n",
    "print(project_df)"
   ]
  },
  {
   "cell_type": "code",
   "execution_count": 7,
   "id": "b1a860c8-a1b9-42a5-b1a9-00b33d309826",
   "metadata": {},
   "outputs": [
    {
     "name": "stdout",
     "output_type": "stream",
     "text": [
      "Updated Employee DataFrame:\n",
      "     ID Gender      City  Age First Name  Last Name\n",
      "0  A001      M     Paris   25       John      Alter\n",
      "1  A002      F    London   27      Alice  Luxemberg\n",
      "2  A003      M    Berlin   29       Mike       Jobs\n",
      "3  A004      F  New York   31       Nina      Adgra\n",
      "4  A005      M    Madrid   30       Fred       Cory\n"
     ]
    }
   ],
   "source": [
    "# Split Name into First Name and Last Name\n",
    "employee_df[[\"First Name\", \"Last Name\"]] = employee_df[\"Name\"].str.split(\" \", expand=True)\n",
    "employee_df.drop(columns=[\"Name\"], inplace=True)\n",
    "print(\"Updated Employee DataFrame:\")\n",
    "print(employee_df)"
   ]
  },
  {
   "cell_type": "code",
   "execution_count": 8,
   "id": "7a29dfd7-7982-47b5-9a95-5d0c9922b23f",
   "metadata": {},
   "outputs": [
    {
     "name": "stdout",
     "output_type": "stream",
     "text": [
      "Final DataFrame:\n",
      "     ID    Project       Cost    Status Gender      City  Age First Name  \\\n",
      "0  A001  Project 1  1000000.0  Finished      M     Paris   25       John   \n",
      "1  A002  Project 2  1000000.0   Ongoing      F    London   27      Alice   \n",
      "2  A003  Project 3  4500000.0  Finished      M    Berlin   29       Mike   \n",
      "3  A004  Project 4  3000000.0   Ongoing      F  New York   31       Nina   \n",
      "4  A005  Project 5  1200000.0  Finished      M    Madrid   30       Fred   \n",
      "\n",
      "   Last Name  Designation Level  \n",
      "0      Alter                  2  \n",
      "1  Luxemberg                  3  \n",
      "2       Jobs                  3  \n",
      "3      Adgra                  4  \n",
      "4       Cory                  3  \n"
     ]
    }
   ],
   "source": [
    "# Merge all DataFrames into a single DataFrame\n",
    "final_df = pd.merge(project_df, employee_df, on=\"ID\")\n",
    "final_df = pd.merge(final_df, seniority_df, on=\"ID\")\n",
    "print(\"Final DataFrame:\")\n",
    "print(final_df)"
   ]
  },
  {
   "cell_type": "code",
   "execution_count": 9,
   "id": "6f80bbf1-d9f3-41a6-ad05-86b2c6207be5",
   "metadata": {},
   "outputs": [
    {
     "name": "stdout",
     "output_type": "stream",
     "text": [
      "Final DataFrame with Bonus:\n",
      "     ID    Project       Cost    Status Gender      City  Age First Name  \\\n",
      "0  A001  Project 1  1000000.0  Finished      M     Paris   25       John   \n",
      "1  A002  Project 2  1000000.0   Ongoing      F    London   27      Alice   \n",
      "2  A003  Project 3  4500000.0  Finished      M    Berlin   29       Mike   \n",
      "3  A004  Project 4  3000000.0   Ongoing      F  New York   31       Nina   \n",
      "4  A005  Project 5  1200000.0  Finished      M    Madrid   30       Fred   \n",
      "\n",
      "   Last Name  Designation Level     Bonus  \n",
      "0      Alter                  2   50000.0  \n",
      "1  Luxemberg                  3       0.0  \n",
      "2       Jobs                  3  225000.0  \n",
      "3      Adgra                  4       0.0  \n",
      "4       Cory                  3   60000.0  \n"
     ]
    }
   ],
   "source": [
    "# Add a 5% bonus for employees who have finished projects\n",
    "final_df[\"Bonus\"] = final_df.apply(lambda row: row[\"Cost\"] * 0.05 if row[\"Status\"] == \"Finished\" else 0, axis=1)\n",
    "print(\"Final DataFrame with Bonus:\")\n",
    "print(final_df)"
   ]
  },
  {
   "cell_type": "code",
   "execution_count": 10,
   "id": "0c25c939-fde5-4f65-b0b7-f5b436aa6e3b",
   "metadata": {},
   "outputs": [
    {
     "name": "stdout",
     "output_type": "stream",
     "text": [
      "After Demotion and Filtering:\n",
      "     ID    Project       Cost    Status Gender      City  Age First Name  \\\n",
      "0  A001  Project 1  1000000.0  Finished      M     Paris   25       John   \n",
      "1  A002  Project 2  1000000.0   Ongoing      F    London   27      Alice   \n",
      "2  A003  Project 3  4500000.0  Finished      M    Berlin   29       Mike   \n",
      "3  A004  Project 4  3000000.0   Ongoing      F  New York   31       Nina   \n",
      "4  A005  Project 5  1200000.0  Finished      M    Madrid   30       Fred   \n",
      "\n",
      "   Last Name  Designation Level     Bonus  \n",
      "0      Alter                  2   50000.0  \n",
      "1  Luxemberg                  3       0.0  \n",
      "2       Jobs                  3  225000.0  \n",
      "3      Adgra                  4       0.0  \n",
      "4       Cory                  3   60000.0  \n"
     ]
    }
   ],
   "source": [
    "# Demote designation level for failed projects and drop employees with level > 4\n",
    "final_df[\"Designation Level\"] = final_df[\"Designation Level\"].apply(lambda x: x - 1 if x > 4 else x)\n",
    "final_df = final_df[final_df[\"Designation Level\"] <= 4]\n",
    "print(\"After Demotion and Filtering:\")\n",
    "print(final_df)"
   ]
  },
  {
   "cell_type": "code",
   "execution_count": 11,
   "id": "388d708d-bb6e-49c4-aaac-0ff1802b7583",
   "metadata": {},
   "outputs": [
    {
     "name": "stdout",
     "output_type": "stream",
     "text": [
      "After Adding Prefixes:\n",
      "     ID    Project       Cost    Status Gender      City  Age  First Name  \\\n",
      "0  A001  Project 1  1000000.0  Finished      M     Paris   25    Mr. John   \n",
      "1  A002  Project 2  1000000.0   Ongoing      F    London   27  Mrs. Alice   \n",
      "2  A003  Project 3  4500000.0  Finished      M    Berlin   29    Mr. Mike   \n",
      "3  A004  Project 4  3000000.0   Ongoing      F  New York   31   Mrs. Nina   \n",
      "4  A005  Project 5  1200000.0  Finished      M    Madrid   30    Mr. Fred   \n",
      "\n",
      "   Last Name  Designation Level     Bonus  \n",
      "0      Alter                  2   50000.0  \n",
      "1  Luxemberg                  3       0.0  \n",
      "2       Jobs                  3  225000.0  \n",
      "3      Adgra                  4       0.0  \n",
      "4       Cory                  3   60000.0  \n"
     ]
    }
   ],
   "source": [
    "# Add 'Mr.' and 'Mrs.' Prefix\n",
    "final_df[\"First Name\"] = final_df.apply(\n",
    "    lambda row: \"Mr. \" + row[\"First Name\"] if row[\"Gender\"] == \"M\" else \"Mrs. \" + row[\"First Name\"], axis=1\n",
    ")\n",
    "print(\"After Adding Prefixes:\")\n",
    "print(final_df)"
   ]
  },
  {
   "cell_type": "code",
   "execution_count": 12,
   "id": "a48b43cf-55e9-4b8f-82c4-0640f1ab0b1e",
   "metadata": {},
   "outputs": [
    {
     "name": "stdout",
     "output_type": "stream",
     "text": [
      "After Promotion by Age:\n",
      "     ID    Project       Cost    Status Gender      City  Age  First Name  \\\n",
      "0  A001  Project 1  1000000.0  Finished      M     Paris   25    Mr. John   \n",
      "1  A002  Project 2  1000000.0   Ongoing      F    London   27  Mrs. Alice   \n",
      "2  A003  Project 3  4500000.0  Finished      M    Berlin   29    Mr. Mike   \n",
      "3  A004  Project 4  3000000.0   Ongoing      F  New York   31   Mrs. Nina   \n",
      "4  A005  Project 5  1200000.0  Finished      M    Madrid   30    Mr. Fred   \n",
      "\n",
      "   Last Name  Designation Level     Bonus  \n",
      "0      Alter                  2   50000.0  \n",
      "1  Luxemberg                  3       0.0  \n",
      "2       Jobs                  3  225000.0  \n",
      "3      Adgra                  5       0.0  \n",
      "4       Cory                  4   60000.0  \n"
     ]
    }
   ],
   "source": [
    "# Promote designation level by 1 for employees over 29 years old\n",
    "final_df[\"Designation Level\"] = final_df.apply(\n",
    "    lambda row: row[\"Designation Level\"] + 1 if row[\"Age\"] > 29 else row[\"Designation Level\"], axis=1\n",
    ")\n",
    "print(\"After Promotion by Age:\")\n",
    "print(final_df)\n"
   ]
  },
  {
   "cell_type": "code",
   "execution_count": 13,
   "id": "d313cec9-59f9-4d49-8ef1-58a3686673c2",
   "metadata": {},
   "outputs": [
    {
     "name": "stdout",
     "output_type": "stream",
     "text": [
      "Total Projects and Costs DataFrame:\n",
      "     ID  First Name  Total_Projects  Total_Cost\n",
      "0  A001    Mr. John               1   1000000.0\n",
      "1  A002  Mrs. Alice               1   1000000.0\n",
      "2  A003    Mr. Mike               1   4500000.0\n",
      "3  A004   Mrs. Nina               1   3000000.0\n",
      "4  A005    Mr. Fred               1   1200000.0\n"
     ]
    }
   ],
   "source": [
    "# Total cost and projects for each employee\n",
    "total_df = final_df.groupby([\"ID\", \"First Name\"]).agg(\n",
    "    Total_Projects=(\"Project\", \"count\"), Total_Cost=(\"Cost\", \"sum\")\n",
    ").reset_index()\n",
    "print(\"Total Projects and Costs DataFrame:\")\n",
    "print(total_df)\n"
   ]
  },
  {
   "cell_type": "code",
   "execution_count": 14,
   "id": "9e711733-010f-4bd1-b169-34d0f4639291",
   "metadata": {},
   "outputs": [
    {
     "name": "stdout",
     "output_type": "stream",
     "text": [
      "Employees with 'n' in their name:\n",
      "     ID    Project       Cost    Status Gender      City  Age First Name  \\\n",
      "0  A001  Project 1  1000000.0  Finished      M     Paris   25   Mr. John   \n",
      "3  A004  Project 4  3000000.0   Ongoing      F  New York   31  Mrs. Nina   \n",
      "\n",
      "  Last Name  Designation Level    Bonus  \n",
      "0     Alter                  2  50000.0  \n",
      "3     Adgra                  5      0.0  \n"
     ]
    }
   ],
   "source": [
    "# Employees whose First Name contains 'n'\n",
    "names_with_n = final_df[final_df[\"First Name\"].str.contains(\"n\", case=False)]\n",
    "print(\"Employees with 'n' in their name:\")\n",
    "print(names_with_n)\n"
   ]
  },
  {
   "cell_type": "code",
   "execution_count": null,
   "id": "44dc0160-c52c-4f9c-be4a-138257c8db36",
   "metadata": {},
   "outputs": [],
   "source": []
  }
 ],
 "metadata": {
  "kernelspec": {
   "display_name": "Python 3 (ipykernel)",
   "language": "python",
   "name": "python3"
  },
  "language_info": {
   "codemirror_mode": {
    "name": "ipython",
    "version": 3
   },
   "file_extension": ".py",
   "mimetype": "text/x-python",
   "name": "python",
   "nbconvert_exporter": "python",
   "pygments_lexer": "ipython3",
   "version": "3.12.7"
  }
 },
 "nbformat": 4,
 "nbformat_minor": 5
}
